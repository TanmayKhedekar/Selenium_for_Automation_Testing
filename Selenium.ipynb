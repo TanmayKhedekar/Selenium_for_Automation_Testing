{
 "cells": [
  {
   "cell_type": "code",
   "execution_count": 1,
   "id": "a13ed8f0",
   "metadata": {},
   "outputs": [
    {
     "name": "stdout",
     "output_type": "stream",
     "text": [
      "Requirement already satisfied: selenium in c:\\users\\asus\\appdata\\local\\packages\\pythonsoftwarefoundation.python.3.11_qbz5n2kfra8p0\\localcache\\local-packages\\python311\\site-packages (4.12.0)\n",
      "Requirement already satisfied: urllib3<3,>=1.26 in c:\\users\\asus\\appdata\\local\\packages\\pythonsoftwarefoundation.python.3.11_qbz5n2kfra8p0\\localcache\\local-packages\\python311\\site-packages (from urllib3[socks]<3,>=1.26->selenium) (2.5.0)\n",
      "Requirement already satisfied: trio~=0.17 in c:\\users\\asus\\appdata\\local\\packages\\pythonsoftwarefoundation.python.3.11_qbz5n2kfra8p0\\localcache\\local-packages\\python311\\site-packages (from selenium) (0.22.2)\n",
      "Requirement already satisfied: trio-websocket~=0.9 in c:\\users\\asus\\appdata\\local\\packages\\pythonsoftwarefoundation.python.3.11_qbz5n2kfra8p0\\localcache\\local-packages\\python311\\site-packages (from selenium) (0.10.3)\n",
      "Requirement already satisfied: certifi>=2021.10.8 in c:\\users\\asus\\appdata\\local\\packages\\pythonsoftwarefoundation.python.3.11_qbz5n2kfra8p0\\localcache\\local-packages\\python311\\site-packages (from selenium) (2025.7.14)\n",
      "Requirement already satisfied: attrs>=20.1.0 in c:\\users\\asus\\appdata\\local\\packages\\pythonsoftwarefoundation.python.3.11_qbz5n2kfra8p0\\localcache\\local-packages\\python311\\site-packages (from trio~=0.17->selenium) (25.3.0)\n",
      "Requirement already satisfied: sortedcontainers in c:\\users\\asus\\appdata\\local\\packages\\pythonsoftwarefoundation.python.3.11_qbz5n2kfra8p0\\localcache\\local-packages\\python311\\site-packages (from trio~=0.17->selenium) (2.4.0)\n",
      "Requirement already satisfied: idna in c:\\users\\asus\\appdata\\local\\packages\\pythonsoftwarefoundation.python.3.11_qbz5n2kfra8p0\\localcache\\local-packages\\python311\\site-packages (from trio~=0.17->selenium) (3.10)\n",
      "Requirement already satisfied: outcome in c:\\users\\asus\\appdata\\local\\packages\\pythonsoftwarefoundation.python.3.11_qbz5n2kfra8p0\\localcache\\local-packages\\python311\\site-packages (from trio~=0.17->selenium) (1.2.0)\n",
      "Requirement already satisfied: sniffio in c:\\users\\asus\\appdata\\local\\packages\\pythonsoftwarefoundation.python.3.11_qbz5n2kfra8p0\\localcache\\local-packages\\python311\\site-packages (from trio~=0.17->selenium) (1.3.1)\n",
      "Requirement already satisfied: cffi>=1.14 in c:\\users\\asus\\appdata\\local\\packages\\pythonsoftwarefoundation.python.3.11_qbz5n2kfra8p0\\localcache\\local-packages\\python311\\site-packages (from trio~=0.17->selenium) (1.15.1)\n",
      "Requirement already satisfied: exceptiongroup in c:\\users\\asus\\appdata\\local\\packages\\pythonsoftwarefoundation.python.3.11_qbz5n2kfra8p0\\localcache\\local-packages\\python311\\site-packages (from trio-websocket~=0.9->selenium) (1.1.3)\n",
      "Requirement already satisfied: wsproto>=0.14 in c:\\users\\asus\\appdata\\local\\packages\\pythonsoftwarefoundation.python.3.11_qbz5n2kfra8p0\\localcache\\local-packages\\python311\\site-packages (from trio-websocket~=0.9->selenium) (1.2.0)\n",
      "Requirement already satisfied: pysocks!=1.5.7,<2.0,>=1.5.6 in c:\\users\\asus\\appdata\\local\\packages\\pythonsoftwarefoundation.python.3.11_qbz5n2kfra8p0\\localcache\\local-packages\\python311\\site-packages (from urllib3[socks]<3,>=1.26->selenium) (1.7.1)\n",
      "Requirement already satisfied: pycparser in c:\\users\\asus\\appdata\\local\\packages\\pythonsoftwarefoundation.python.3.11_qbz5n2kfra8p0\\localcache\\local-packages\\python311\\site-packages (from cffi>=1.14->trio~=0.17->selenium) (2.21)\n",
      "Requirement already satisfied: h11<1,>=0.9.0 in c:\\users\\asus\\appdata\\local\\packages\\pythonsoftwarefoundation.python.3.11_qbz5n2kfra8p0\\localcache\\local-packages\\python311\\site-packages (from wsproto>=0.14->trio-websocket~=0.9->selenium) (0.16.0)\n"
     ]
    }
   ],
   "source": [
    "!pip install selenium"
   ]
  },
  {
   "cell_type": "code",
   "execution_count": 5,
   "id": "96a8b20a",
   "metadata": {},
   "outputs": [],
   "source": [
    "from selenium import webdriver\n",
    "from selenium.webdriver.common.by import By\n",
    "from selenium.webdriver.common.keys import Keys\n",
    "from selenium.webdriver.support.ui import WebDriverWait ,Select\n",
    "from selenium.webdriver.support import expected_conditions as EC\n",
    "import time\n",
    "\n",
    "driver=webdriver.Chrome()\n",
    "driver.maximize_window()\n",
    "driver.get(\"https://www.youtube.com/\")\n",
    "driver.forward()\n",
    "time.sleep(5)"
   ]
  },
  {
   "cell_type": "code",
   "execution_count": null,
   "id": "f843e70b",
   "metadata": {},
   "outputs": [],
   "source": [
    "#Navigation\n",
    "driver.get(\"https://www.youtube.com/\")\n",
    "print(driver.title)\n",
    "print(driver.current_url)\n",
    "driver.back()\n",
    "driver.forward()\n",
    "driver.refresh()"
   ]
  },
  {
   "cell_type": "code",
   "execution_count": null,
   "id": "26452125",
   "metadata": {},
   "outputs": [],
   "source": [
    "#Finding The Element\n",
    "driver.find_element(By.ID,\"id_value\")\n",
    "driver.find_element(By.NAME,\"name_value\")\n",
    "driver.find_element(By.CLASS_NAME,\"class_name\")\n",
    "driver.find_element(By.TAG_NAME,\"input\")\n",
    "driver.find_element(By.LINK_TEXT,\"Download\")\n",
    "driver.find_element(By.PARTIAL_LINK_TEXT, \"Down\")\n",
    "driver.find_element(By.CSS_SELECTOR, \"input.search-field\")\n",
    "driver.find_element(By.XPATH, \"//input[@name='q']\")\n",
    "\n"
   ]
  },
  {
   "cell_type": "code",
   "execution_count": null,
   "id": "9b4f6392",
   "metadata": {},
   "outputs": [],
   "source": [
    "#Typing and Clicking\n",
    "box = driver.find_element(By.NAME, \"q\")\n",
    "box.send_keys(\"pycon\")           # type text\n",
    "box.send_keys(Keys.RETURN)       # press Enter\n",
    "button = driver.find_element(By.ID, \"submit\")\n",
    "button.click()                   # click button\n",
    "\n"
   ]
  },
  {
   "cell_type": "code",
   "execution_count": null,
   "id": "35d49786",
   "metadata": {},
   "outputs": [],
   "source": [
    "#Waits\n",
    "# Implicit wait (global)\n",
    "driver.implicitly_wait(5)\n",
    "\n",
    "# Explicit wait (better)\n",
    "wait = WebDriverWait(driver, 10)\n",
    "elem = wait.until(EC.element_to_be_clickable((By.ID, \"submit\")))\n",
    "elem.click()\n",
    "\n"
   ]
  },
  {
   "cell_type": "code",
   "execution_count": null,
   "id": "b582403a",
   "metadata": {},
   "outputs": [],
   "source": [
    "#Dropdown\n",
    "dropdown = Select(driver.find_element(By.ID, \"country\"))\n",
    "dropdown.select_by_visible_text(\"India\")\n",
    "dropdown.select_by_index(2)\n",
    "dropdown.select_by_value(\"US\")\n"
   ]
  },
  {
   "cell_type": "code",
   "execution_count": null,
   "id": "64b49c1a",
   "metadata": {},
   "outputs": [],
   "source": [
    "#CheckBoxes and RadioButton\n",
    "check = driver.find_element(By.ID, \"subscribe\")\n",
    "if not check.is_selected():\n",
    "    check.click()\n",
    "\n",
    "radio = driver.find_element(By.ID, \"gender_male\")\n",
    "radio.click()\n"
   ]
  },
  {
   "cell_type": "code",
   "execution_count": null,
   "id": "f73b26b8",
   "metadata": {},
   "outputs": [],
   "source": [
    "#Alert\n",
    "alert = driver.switch_to.alert\n",
    "print(alert.text)\n",
    "alert.accept()     # OK\n",
    "# alert.dismiss()  # Cancel\n",
    "# alert.send_keys(\"text\")  # prompt input\n"
   ]
  },
  {
   "cell_type": "code",
   "execution_count": null,
   "id": "5ba4678f",
   "metadata": {},
   "outputs": [],
   "source": [
    "#Frame\n",
    "driver.switch_to.frame(\"frame_name\")\n",
    "driver.find_element(By.ID, \"inside\").click()\n",
    "driver.switch_to.default_content()  # back to main page\n",
    "\n"
   ]
  },
  {
   "cell_type": "code",
   "execution_count": null,
   "id": "a644c39c",
   "metadata": {},
   "outputs": [],
   "source": [
    "#Multiple Windows\n",
    "driver.execute_script(\"window.open('https://google.com');\")\n",
    "windows = driver.window_handles\n",
    "driver.switch_to.window(windows[1])  # switch to new tab\n",
    "driver.close()\n",
    "driver.switch_to.window(windows[0])\n"
   ]
  },
  {
   "cell_type": "code",
   "execution_count": null,
   "id": "1d513a86",
   "metadata": {},
   "outputs": [],
   "source": [
    "#Mouse And Keyboard\n",
    "from selenium.webdriver import ActionChains\n",
    "\n",
    "actions = ActionChains(driver)\n",
    "elem = driver.find_element(By.ID, \"hover-me\")\n",
    "\n",
    "actions.move_to_element(elem).perform()       # hover\n",
    "actions.double_click(elem).perform()          # double click\n",
    "actions.context_click(elem).perform()         # right click\n",
    "actions.drag_and_drop(source, target).perform()\n"
   ]
  },
  {
   "cell_type": "code",
   "execution_count": null,
   "id": "4b1d77c9",
   "metadata": {},
   "outputs": [],
   "source": [
    "#Execute JS\n",
    "driver.execute_script(\"alert('Hello from JS!')\")\n",
    "driver.execute_script(\"window.scrollTo(0, document.body.scrollHeight);\")\n"
   ]
  },
  {
   "cell_type": "code",
   "execution_count": null,
   "id": "9d115f56",
   "metadata": {},
   "outputs": [],
   "source": [
    "#Screenshot\n",
    "driver.save_screenshot(\"page.png\")\n",
    "elem = driver.find_element(By.ID, \"logo\")\n",
    "elem.screenshot(\"logo.png\")\n"
   ]
  },
  {
   "cell_type": "code",
   "execution_count": null,
   "id": "d29c9d37",
   "metadata": {},
   "outputs": [],
   "source": [
    "#Cookies\n",
    "driver.add_cookie({\"name\": \"mycookie\", \"value\": \"12345\"})\n",
    "print(driver.get_cookies())\n",
    "driver.delete_cookie(\"mycookie\")\n",
    "driver.delete_all_cookies()\n"
   ]
  },
  {
   "cell_type": "code",
   "execution_count": null,
   "id": "0a03222c",
   "metadata": {},
   "outputs": [],
   "source": [
    "#Quit\n",
    "driver.quit()   # closes all browser windows\n"
   ]
  }
 ],
 "metadata": {
  "kernelspec": {
   "display_name": ".venv",
   "language": "python",
   "name": "python3"
  },
  "language_info": {
   "codemirror_mode": {
    "name": "ipython",
    "version": 3
   },
   "file_extension": ".py",
   "mimetype": "text/x-python",
   "name": "python",
   "nbconvert_exporter": "python",
   "pygments_lexer": "ipython3",
   "version": "3.11.9"
  }
 },
 "nbformat": 4,
 "nbformat_minor": 5
}
